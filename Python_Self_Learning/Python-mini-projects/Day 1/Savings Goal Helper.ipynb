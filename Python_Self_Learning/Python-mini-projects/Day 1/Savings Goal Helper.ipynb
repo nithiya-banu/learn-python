{
 "cells": [
  {
   "cell_type": "markdown",
   "id": "5ca53fc2",
   "metadata": {},
   "source": [
    "**Savings Goal Helper**"
   ]
  },
  {
   "cell_type": "code",
   "execution_count": null,
   "id": "094922c2",
   "metadata": {},
   "outputs": [],
   "source": [
    "import math, datetime as dt\n",
    "\n",
    "Current_save= float(input(\"Please enter your current savings amount:\"))\n",
    "Target_save = float(input(\"Please enter your target savings amount:\"))\n",
    "Monthly_save = float(input(\"please enter your monthly savings amount:\"))\n",
    "\n",
    "Months = math.ceil(max(0,Target_save - Current_save)/Monthly_save)\n",
    "Estimated_days = Months*30\n",
    "today = dt.date.today()\n",
    "est_date = today + dt.timedelta(days=Estimated_days)\n",
    "\n",
    "print(f\"You will reach your goal in {Months} months, around {est_date}\")\n"
   ]
  }
 ],
 "metadata": {
  "language_info": {
   "name": "python"
  }
 },
 "nbformat": 4,
 "nbformat_minor": 5
}
