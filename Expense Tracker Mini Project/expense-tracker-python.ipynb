{
 "cells": [
  {
   "cell_type": "code",
   "execution_count": null,
   "id": "398bb08f",
   "metadata": {},
   "outputs": [
    {
     "name": "stdout",
     "output_type": "stream",
     "text": [
      "\n",
      "Welcome to the expense tracker, nithiya\n",
      "1. Add Expense\n",
      "2. View Expenses\n",
      "3. Get Total\n",
      "4. Exit\n",
      "Please enter a valid number!\n",
      "\n",
      "Welcome to the expense tracker, Nithiya\n",
      "1. Add Expense\n",
      "2. View Expenses\n",
      "3. Get Total\n",
      "4. Exit\n",
      "Your expense of Rs.450 for Fruits has been added successfully!\n",
      "\n",
      "Welcome to the expense tracker, Nithiya\n",
      "1. Add Expense\n",
      "2. View Expenses\n",
      "3. Get Total\n",
      "4. Exit\n",
      "Please enter a valid number!\n",
      "Please enter alphabetic value as name!\n",
      "You have exceeded the number of allowed attempts. Restart the program to try again.\n"
     ]
    }
   ],
   "source": [
    "expense_list = []\n",
    "\n",
    "while True:\n",
    "    try:\n",
    "        name = input(\"Enter your name: \")\n",
    "        if not name.isalpha():\n",
    "            print(\"Please enter alphabetic value as name!\")\n",
    "            print(\"You have exceeded the number of allowed attempts. Restart the program to try again.\")\n",
    "            break\n",
    "\n",
    "        print(f\"\\nWelcome to the expense tracker, {name}\")\n",
    "        print(\"1. Add Expense\")\n",
    "        print(\"2. View Expenses\")\n",
    "        print(\"3. Get Total\")\n",
    "        print(\"4. Exit\")\n",
    "\n",
    "        user_option = int(input(\"Enter the option number to proceed: \"))\n",
    "\n",
    "        if user_option == 1:\n",
    "            exp_category = input(\"Enter the expense category: \")\n",
    "            if not exp_category.isalpha():\n",
    "                print(\"Please enter an alphabetic value for category!\")\n",
    "                continue\n",
    "            exp_amount = int(input(\"Enter the expense amount: \"))\n",
    "            expense_list.append({exp_category: exp_amount})\n",
    "            print(f\"Your expense of Rs.{exp_amount} for {exp_category} has been added successfully!\")\n",
    "\n",
    "        elif user_option == 2:\n",
    "            if not expense_list:\n",
    "                print(\"No expenses recorded yet.\")\n",
    "            else:\n",
    "                print(\"Your Expenses:\")\n",
    "                for item in expense_list:\n",
    "                    for category, amount in item.items():\n",
    "                        print(f\"{category} : Rs.{amount}\")\n",
    "\n",
    "        elif user_option == 3:\n",
    "            total = sum(amount for item in expense_list for amount in item.values())\n",
    "            print(f\"Total expense: Rs.{total}\")\n",
    "\n",
    "        elif user_option == 4:\n",
    "            print(\"Thank you for using the expense tracker!\")\n",
    "            break\n",
    "        else:\n",
    "            print(\"Invalid option. Try again!\")\n",
    "\n",
    "    except ValueError:\n",
    "        print(\"Please enter a valid number!\")\n"
   ]
  },
  {
   "cell_type": "code",
   "execution_count": null,
   "id": "fe7e8c63",
   "metadata": {},
   "outputs": [],
   "source": [
    "ExpenseTracker()"
   ]
  },
  {
   "cell_type": "code",
   "execution_count": null,
   "id": "8def399f",
   "metadata": {},
   "outputs": [],
   "source": [
    "expense = []\n",
    "print(expense)\n",
    "expense.append({\"a\": \"b\"})\n",
    "print(expense)\n",
    "name = \"nithiya\"\n",
    "age = 23\n",
    "expense.append({name: age})\n",
    "for i,j in expense.items()"
   ]
  }
 ],
 "metadata": {
  "kernelspec": {
   "display_name": "Python 3",
   "language": "python",
   "name": "python3"
  },
  "language_info": {
   "codemirror_mode": {
    "name": "ipython",
    "version": 3
   },
   "file_extension": ".py",
   "mimetype": "text/x-python",
   "name": "python",
   "nbconvert_exporter": "python",
   "pygments_lexer": "ipython3",
   "version": "3.12.10"
  }
 },
 "nbformat": 4,
 "nbformat_minor": 5
}
